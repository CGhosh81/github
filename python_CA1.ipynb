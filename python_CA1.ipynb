{
 "cells": [
  {
   "cell_type": "markdown",
   "id": "5d96b2e3-aaf1-4e4c-b83e-65af7a580d20",
   "metadata": {},
   "source": [
    "# 01 Write a program in Python to find the addition & average of three float numbers"
   ]
  },
  {
   "cell_type": "code",
   "execution_count": 1,
   "id": "ab5f055b-9f2b-4206-b9ea-7ab48685d435",
   "metadata": {},
   "outputs": [
    {
     "name": "stdin",
     "output_type": "stream",
     "text": [
      "Enter number 1: 3\n",
      "Enter number 2: 4\n",
      "Enter number 3: 5\n"
     ]
    },
    {
     "name": "stdout",
     "output_type": "stream",
     "text": [
      "Sum:12.0 \n",
      "Average:4.0\n"
     ]
    }
   ],
   "source": [
    "a=float(input(\"Enter number 1:\"))\n",
    "\n",
    "b=float(input(\"Enter number 2:\"))\n",
    "c=float(input(\"Enter number 3:\"))\n",
    "\n",
    "print(f\"Sum:{a+b+c} \\nAverage:{(a+b+c)/3}\")"
   ]
  },
  {
   "cell_type": "markdown",
   "id": "6f72ec90-2099-4804-9647-125bc92337ab",
   "metadata": {},
   "source": [
    "# 02 Write a program in Python to find the volume of a sphere with radius  6cm. "
   ]
  },
  {
   "cell_type": "code",
   "execution_count": 2,
   "id": "832e1f04-821f-4fc1-a0b5-e9194edd5100",
   "metadata": {},
   "outputs": [
    {
     "name": "stdout",
     "output_type": "stream",
     "text": [
      "The volume of the sphere with radius 6 cm is 904.78 cubic centimeters.\n"
     ]
    }
   ],
   "source": [
    "import math\n",
    "\n",
    "radius=6\n",
    "volume = (4/3) * math.pi * (radius ** 3)\n",
    "print(f\"The volume of the sphere with radius {radius} cm is {volume:.2f} cubic centimeters.\")"
   ]
  },
  {
   "cell_type": "markdown",
   "id": "2d5c7993-04b9-47cd-be4f-3c8d81ca159b",
   "metadata": {},
   "source": [
    "# 03 Write a program in Python to find the area of a circle. "
   ]
  },
  {
   "cell_type": "code",
   "execution_count": 3,
   "id": "fbb60e74-44d3-4e44-b1f7-4ebbd443536c",
   "metadata": {},
   "outputs": [
    {
     "name": "stdin",
     "output_type": "stream",
     "text": [
      "Enter the radius of the circle:  12\n"
     ]
    },
    {
     "name": "stdout",
     "output_type": "stream",
     "text": [
      "The area of circle 12.0 cm is 452.39 square centimeters.\n"
     ]
    }
   ],
   "source": [
    "\n",
    "radius = float(input(\"Enter the radius of the circle: \"))\n",
    "area = math.pi * (radius ** 2)\n",
    "\n",
    "print(f\"The area of circle {radius} cm is {area} square centimeters.\")"
   ]
  },
  {
   "cell_type": "markdown",
   "id": "da872677-4f3f-4d4c-85e3-520af87b3f18",
   "metadata": {},
   "source": [
    "# 04 Write a program in Python to compute simple Interest. "
   ]
  },
  {
   "cell_type": "code",
   "execution_count": 4,
   "id": "5eaa83f2-ab19-476f-b266-e419cb777fee",
   "metadata": {},
   "outputs": [
    {
     "name": "stdin",
     "output_type": "stream",
     "text": [
      "Enter princple amount: 10000\n",
      "Enter the annual interest rate (r) in percentage:  5\n",
      "Enter time in year: 10\n"
     ]
    },
    {
     "name": "stdout",
     "output_type": "stream",
     "text": [
      "The simple interest is 5000.0\n"
     ]
    }
   ],
   "source": [
    "princple=float(input(\"Enter princple amount:\"))\n",
    "rate=(float(input(\"Enter the annual interest rate (r) in percentage: \")) )/ 100\n",
    "time=float(input(\"Enter time in year:\"))\n",
    "\n",
    "print(f\"The simple interest is {princple*rate*time}\")"
   ]
  },
  {
   "cell_type": "markdown",
   "id": "3fdb4e36-50cb-4b47-b81a-521952714cac",
   "metadata": {},
   "source": [
    "# 05 Write a program in Python to swap two numbers without using third variable "
   ]
  },
  {
   "cell_type": "code",
   "execution_count": 5,
   "id": "244d703d-14fc-4d1f-b920-51fb7cd2cffa",
   "metadata": {},
   "outputs": [
    {
     "name": "stdin",
     "output_type": "stream",
     "text": [
      "A: 2\n",
      "B: 3\n"
     ]
    },
    {
     "name": "stdout",
     "output_type": "stream",
     "text": [
      "A:3\n",
      "B:2\n"
     ]
    }
   ],
   "source": [
    "a=int(input(\"A:\"))\n",
    "b=int(input(\"B:\"))\n",
    "\n",
    "a=a+b\n",
    "b=a-b\n",
    "a=a-b\n",
    "\n",
    "print(f\"A:{a}\\nB:{b}\")"
   ]
  },
  {
   "cell_type": "markdown",
   "id": "bdf9794f-4d40-4759-9a3c-247d987f29e8",
   "metadata": {},
   "source": [
    "# 06 Write a program in Python to convert any temperature from Celcius to Fahrenheit.  "
   ]
  },
  {
   "cell_type": "code",
   "execution_count": 6,
   "id": "6e27d880-bbf9-4f94-801c-0912a231e77d",
   "metadata": {},
   "outputs": [
    {
     "name": "stdin",
     "output_type": "stream",
     "text": [
      "Enter temperature in Celsius:  100\n"
     ]
    },
    {
     "name": "stdout",
     "output_type": "stream",
     "text": [
      "Temperature in Fahrenheit is: 212.00\n"
     ]
    }
   ],
   "source": [
    "\n",
    "celsius = float(input(\"Enter temperature in Celsius: \"))\n",
    "\n",
    "fahrenheit = (9/5) * celsius + 32\n",
    "print(f\"Temperature in Fahrenheit is: {fahrenheit:.2f}\")\n"
   ]
  },
  {
   "cell_type": "markdown",
   "id": "77cbf2ea-c152-4e94-a1f4-2892131a297f",
   "metadata": {},
   "source": [
    "# 07 Write a program in Python to convert a given number of days into days, month, year and week. "
   ]
  },
  {
   "cell_type": "code",
   "execution_count": 7,
   "id": "9f142e90-c336-46f2-80b9-b7b36474b336",
   "metadata": {},
   "outputs": [
    {
     "name": "stdin",
     "output_type": "stream",
     "text": [
      "Enter number of days: 365\n"
     ]
    },
    {
     "name": "stdout",
     "output_type": "stream",
     "text": [
      "Number of year:1\n",
      "Month:0\n",
      "Week:0\n",
      "Days:0\n"
     ]
    }
   ],
   "source": [
    "d=int(input(\"Enter number of days:\"))\n",
    "\n",
    "temp=d%365\n",
    "year=d//365\n",
    "temp1=temp%30\n",
    "month=temp//30\n",
    "days=temp1%7\n",
    "week=temp1//7\n",
    "\n",
    "print(f\"Number of year:{year}\\nMonth:{month}\\nWeek:{week}\\nDays:{days}\")"
   ]
  },
  {
   "cell_type": "markdown",
   "id": "80b4c228-680d-45c7-b343-835a17492bba",
   "metadata": {},
   "source": [
    "# 08 Write a Python Program to find the gravitational force acting between two objects. \r\n",
    "F=G*(m1*m2)/d^2  G=6.674*10^-11  Nm^2/Kg^2] "
   ]
  },
  {
   "cell_type": "code",
   "execution_count": 8,
   "id": "525aac88-7b34-4137-90ba-641ebed62ddb",
   "metadata": {},
   "outputs": [
    {
     "name": "stdin",
     "output_type": "stream",
     "text": [
      "Enter distance  between two object in meters: 200\n",
      "Enter first object weight in Kg: 4\n",
      "Enter second object weight in Kg: 5\n"
     ]
    },
    {
     "name": "stdout",
     "output_type": "stream",
     "text": [
      "Gravitational force between two object is 333700000.0\n"
     ]
    }
   ],
   "source": [
    "d=float(input(\"Enter distance  between two object in meters:\"))\n",
    "m1=float(input(\"Enter first object weight in Kg:\"))\n",
    "m2=float(input(\"Enter second object weight in Kg:\"))\n",
    "\n",
    "G=6.674*10**11\n",
    "\n",
    "F=G*(m1*m2)/d**2\n",
    "print(f\"Gravitational force between two object is {F}\")"
   ]
  },
  {
   "cell_type": "markdown",
   "id": "4cd904f0-ebc2-44bd-b96d-2f4ba332d5a9",
   "metadata": {},
   "source": [
    "# 09\r\n",
    "Write a program in Python to find given no is Even or Odd. "
   ]
  },
  {
   "cell_type": "code",
   "execution_count": 9,
   "id": "92280428-8f4a-4183-9bf0-03f10e398e83",
   "metadata": {},
   "outputs": [
    {
     "name": "stdin",
     "output_type": "stream",
     "text": [
      "Enter a number: 13\n"
     ]
    },
    {
     "name": "stdout",
     "output_type": "stream",
     "text": [
      "The given number 13.0 is odd\n"
     ]
    }
   ],
   "source": [
    "n=float(input(\"Enter a number:\"))\n",
    "\n",
    "if n%2==0:\n",
    "    print(f\"The given number {n} is even\")\n",
    "else:\n",
    "    print(f\"The given number {n} is odd\")"
   ]
  },
  {
   "cell_type": "markdown",
   "id": "6d81c7d0-e676-4322-bc12-5225ea83c13b",
   "metadata": {},
   "source": [
    "# 10 Take input from user if it is greater than 15 print two times of difference if it’s less than 15 print four times of difference. "
   ]
  },
  {
   "cell_type": "code",
   "execution_count": 10,
   "id": "1064774e-e04f-4d75-a924-1bfb038d55cb",
   "metadata": {},
   "outputs": [
    {
     "name": "stdin",
     "output_type": "stream",
     "text": [
      "Enter a number:  14\n"
     ]
    },
    {
     "name": "stdout",
     "output_type": "stream",
     "text": [
      "The number is less than or equal to 15. four times the difference is: -4.0\n"
     ]
    }
   ],
   "source": [
    "n = float(input(\"Enter a number: \"))\n",
    "d = n - 15\n",
    "if n > 15:\n",
    "    r = 2 * d\n",
    "    print(f\"The number is greater than 15. Two times the difference is: {r}\")\n",
    "else:\n",
    "    r= 4 * d\n",
    "    print(f\"The number is less than or equal to 15. four times the difference is: {r}\")\n"
   ]
  },
  {
   "cell_type": "markdown",
   "id": "bca37fa3-4ea5-4e34-ae72-d76bb599c082",
   "metadata": {},
   "source": [
    "# 11 Write a program in Python to find largest among three numbers. "
   ]
  },
  {
   "cell_type": "code",
   "execution_count": 11,
   "id": "310ad824-8b25-4f87-9a12-780925e732db",
   "metadata": {},
   "outputs": [
    {
     "name": "stdin",
     "output_type": "stream",
     "text": [
      "Enter  number 1:  4\n",
      "Enter  number 2:  7\n",
      "Enter  number 3:  2\n"
     ]
    },
    {
     "name": "stdout",
     "output_type": "stream",
     "text": [
      "7.0 is largest among of three number\n"
     ]
    }
   ],
   "source": [
    "n1= float(input(\"Enter  number 1: \"))\n",
    "n2= float(input(\"Enter  number 2: \"))\n",
    "n3= float(input(\"Enter  number 3: \"))\n",
    "\n",
    "if (n1>n2 and n1>n3):\n",
    "    print(f\"{n1} is largest among of three number\")\n",
    "elif (n2>n1 and n2>n3):\n",
    "    print(f\"{n2} is largest among of three number\")\n",
    "else:\n",
    "    print(f\"{n3} is largest among of three number\")\n"
   ]
  },
  {
   "cell_type": "markdown",
   "id": "8646be07-d874-4d51-b2ca-d8af276fbafa",
   "metadata": {},
   "source": [
    "# 12 Write a program in Python to check a triangle is equilateral,scalene or isosclees.. "
   ]
  },
  {
   "cell_type": "code",
   "execution_count": 12,
   "id": "e079fd2f-b26d-41fc-a929-134e473147a6",
   "metadata": {},
   "outputs": [
    {
     "name": "stdin",
     "output_type": "stream",
     "text": [
      "Enter the length of first side: 17\n",
      "Enter the length of second side: 18\n",
      "Enter the length of third side: 19\n"
     ]
    },
    {
     "name": "stdout",
     "output_type": "stream",
     "text": [
      "The triangle is scalene.\n"
     ]
    }
   ],
   "source": [
    "s1=float(input(\"Enter the length of first side:\"))\n",
    "s2=float(input(\"Enter the length of second side:\"))\n",
    "s3=float(input(\"Enter the length of third side:\"))\n",
    "\n",
    "if s1 + s2 > s3 and s2 + s3 > s1 and s3 + s1 > s2:\n",
    "    if s1 == s2 == s3:\n",
    "        print(\"The triangle is equilateral.\")\n",
    "    elif s1 == s2 or s2 == s3 or s3 == s1:\n",
    "        print(\"The triangle is isosceles.\")\n",
    "    else:\n",
    "        print(\"The triangle is scalene.\")\n",
    "else:\n",
    "    print(\"The lengths provided do not form a valid triangle.\")"
   ]
  },
  {
   "cell_type": "markdown",
   "id": "689ee14a-63fe-4fa2-b043-a8621026d4f9",
   "metadata": {},
   "source": [
    "# 13 Write a program in Python to check a given year is leapyear or not. "
   ]
  },
  {
   "cell_type": "code",
   "execution_count": 13,
   "id": "4b15081d-74cb-47d9-af81-e4da7651dcc5",
   "metadata": {},
   "outputs": [
    {
     "name": "stdin",
     "output_type": "stream",
     "text": [
      "Enter year: 3000\n"
     ]
    },
    {
     "name": "stdout",
     "output_type": "stream",
     "text": [
      "3000 is not a leap year\n"
     ]
    }
   ],
   "source": [
    "n=int(input(\"Enter year:\"))\n",
    "\n",
    "if n%400==0:\n",
    "    print(f\"{n} is a leap year\")\n",
    "elif n%100==0:\n",
    "    print(f\"{n} is not a leap year\")\n",
    "elif n%4==0:\n",
    "    print(f\"{n} is a leap year\")\n",
    "else:\n",
    "    print(f\"{n} is not a leap year\")"
   ]
  },
  {
   "cell_type": "markdown",
   "id": "ec812fe7-fbad-4705-b71a-ae8f5a297c86",
   "metadata": {},
   "source": [
    "# 14 Take marks of a student of four different subject find average depending on average find Grade(if marks >=75 i.e,’A’ or >=60 but <=75 i.e,’B’ or >=40 but <=60 i.e,’C’ or <=40 i.e,’D’). "
   ]
  },
  {
   "cell_type": "code",
   "execution_count": 14,
   "id": "3b01c960-1b15-4e59-8ddd-53ac7cb1448d",
   "metadata": {},
   "outputs": [
    {
     "name": "stdin",
     "output_type": "stream",
     "text": [
      "Enter the marks  first subject:  67\n",
      "Enter the marks second subject:  89\n",
      "Enter the marks third subject:  56\n",
      "Enter the marks fourth subject:  90\n"
     ]
    },
    {
     "name": "stdout",
     "output_type": "stream",
     "text": [
      "The average marks are: 75.5\n",
      "The grade is: A\n"
     ]
    }
   ],
   "source": [
    "m1 = float(input(\"Enter the marks  first subject: \"))\n",
    "m2 = float(input(\"Enter the marks second subject: \"))\n",
    "m3 = float(input(\"Enter the marks third subject: \"))\n",
    "m4 = float(input(\"Enter the marks fourth subject: \"))\n",
    "\n",
    "avg = (m1 + m2 + m3 + m4) / 4\n",
    "\n",
    "if avg >= 75:\n",
    "    grade = 'A'\n",
    "elif avg >= 60:\n",
    "    grade = 'B'\n",
    "elif avg >= 40:\n",
    "    grade = 'C'\n",
    "else:\n",
    "    grade = 'D'\n",
    "print(f\"The average marks are: {avg}\")\n",
    "print(f\"The grade is: {grade}\")\n"
   ]
  },
  {
   "cell_type": "markdown",
   "id": "bbd9d4a3-56e1-4dcc-a63e-20275dc976d4",
   "metadata": {},
   "source": [
    "# 15 Write a program in Python to implement a simple calculator \n"
   ]
  },
  {
   "cell_type": "code",
   "execution_count": 15,
   "id": "ecd0275e-ce8d-401d-9492-5bdcea6d9750",
   "metadata": {},
   "outputs": [
    {
     "name": "stdin",
     "output_type": "stream",
     "text": [
      "Enter the first number:  4\n"
     ]
    },
    {
     "name": "stdout",
     "output_type": "stream",
     "text": [
      "Select operation:\n",
      "1. Addition\n",
      "2. Subtraction\n",
      "3. Multiplication\n",
      "4. Division\n"
     ]
    },
    {
     "name": "stdin",
     "output_type": "stream",
     "text": [
      "Enter choice (1/2/3/4):  2\n",
      "Enter the second number:  7\n"
     ]
    },
    {
     "name": "stdout",
     "output_type": "stream",
     "text": [
      "The result of subtraction is: -3.0\n"
     ]
    }
   ],
   "source": [
    "n1 = float(input(\"Enter the first number: \"))\n",
    "\n",
    "print(\"Select operation:\")\n",
    "print(\"1. Addition\")\n",
    "print(\"2. Subtraction\")\n",
    "print(\"3. Multiplication\")\n",
    "print(\"4. Division\")\n",
    "ch = input(\"Enter choice (1/2/3/4): \")\n",
    "\n",
    "n2 = float(input(\"Enter the second number: \"))\n",
    "\n",
    "if ch == '1':\n",
    "    r = n1 + n2\n",
    "    print(f\"The result of addition is: {r}\")\n",
    "elif ch == '2':\n",
    "    r = n1 - n2\n",
    "    print(f\"The result of subtraction is: {r}\")\n",
    "elif ch == '3':\n",
    "    r = n1 * n2\n",
    "    print(f\"The result of multiplication is: {r}\")\n",
    "elif ch == '4':\n",
    "    if n2 != 0:\n",
    "        r = n1 / n2\n",
    "        print(f\"The result of division is: {r}\")\n",
    "    else:\n",
    "        print(\"Error! Division by zero is not allowed.\")\n",
    "else:\n",
    "    print(\"Invalid input! Please enter a number between 1 and 4.\")\n"
   ]
  },
  {
   "cell_type": "markdown",
   "id": "8e0899f2-ff67-4b71-979c-5ccd2be763fe",
   "metadata": {},
   "source": [
    "# 16 Write a program in Python to find the roots of Quadratic equation. "
   ]
  },
  {
   "cell_type": "code",
   "execution_count": 16,
   "id": "6a143d8a-a5aa-42d7-b5c4-7a8ddfec6118",
   "metadata": {},
   "outputs": [
    {
     "name": "stdin",
     "output_type": "stream",
     "text": [
      "Enter the coefficient a:  34\n",
      "Enter the coefficient b:  56\n",
      "Enter the coefficient c:  78\n"
     ]
    },
    {
     "name": "stdout",
     "output_type": "stream",
     "text": [
      "The roots of the quadratic equation are: (-0.8235294117647058+1.2711872226455476j) and (-0.8235294117647058-1.2711872226455476j)\n"
     ]
    }
   ],
   "source": [
    "import cmath\n",
    "\n",
    "a = float(input(\"Enter the coefficient a: \"))\n",
    "b = float(input(\"Enter the coefficient b: \"))\n",
    "c = float(input(\"Enter the coefficient c: \"))\n",
    "\n",
    "d = b**2 - 4*a*c\n",
    "\n",
    "r1 = (-b + cmath.sqrt(d)) / (2*a)\n",
    "r2 = (-b - cmath.sqrt(d)) / (2*a)\n",
    "\n",
    "print(f\"The roots of the quadratic equation are: {r1} and {r2}\")\n"
   ]
  },
  {
   "cell_type": "markdown",
   "id": "7941c28b-ea81-434e-bcf9-4a32bef37890",
   "metadata": {},
   "source": [
    "# 17 Write a program in Python to print 1 to n. "
   ]
  },
  {
   "cell_type": "code",
   "execution_count": 17,
   "id": "b77441ec-ebb6-465a-aca5-076b4e6a9a08",
   "metadata": {},
   "outputs": [
    {
     "name": "stdin",
     "output_type": "stream",
     "text": [
      "Enter the value of n:  5\n"
     ]
    },
    {
     "name": "stdout",
     "output_type": "stream",
     "text": [
      "1\n",
      "2\n",
      "3\n",
      "4\n",
      "5\n"
     ]
    }
   ],
   "source": [
    "n = int(input(\"Enter the value of n: \"))\n",
    "\n",
    "for i in range(1, n + 1):\n",
    "    print(i)"
   ]
  },
  {
   "cell_type": "markdown",
   "id": "f63757cc-ad8e-4339-b0c3-bd1f1938d130",
   "metadata": {},
   "source": [
    "# 18 Write a program in Python to print sum of natural number. "
   ]
  },
  {
   "cell_type": "code",
   "execution_count": 18,
   "id": "44db4022-aa95-47d0-9ada-d540b96c2d64",
   "metadata": {},
   "outputs": [
    {
     "name": "stdin",
     "output_type": "stream",
     "text": [
      "Enter the value of n:  7\n"
     ]
    },
    {
     "name": "stdout",
     "output_type": "stream",
     "text": [
      "The sum of natural numbers from 1 to 7 is 28\n"
     ]
    }
   ],
   "source": [
    "n = int(input(\"Enter the value of n: \"))\n",
    "\n",
    "sum= (n * (n + 1)) // 2\n",
    "\n",
    "print(f\"The sum of natural numbers from 1 to {n} is {sum}\")"
   ]
  },
  {
   "cell_type": "markdown",
   "id": "ba8ef5aa-b596-43fc-8106-91695c663f8b",
   "metadata": {},
   "source": [
    "# 19 Write a program in Python to print Sum of Digit. "
   ]
  },
  {
   "cell_type": "code",
   "execution_count": 19,
   "id": "0f5b2470-e3fa-4a41-af83-355254cc7ab3",
   "metadata": {},
   "outputs": [
    {
     "name": "stdin",
     "output_type": "stream",
     "text": [
      "Enter a number:  177\n"
     ]
    },
    {
     "name": "stdout",
     "output_type": "stream",
     "text": [
      "The sum of the digits is 15\n"
     ]
    }
   ],
   "source": [
    "n = int(input(\"Enter a number: \"))\n",
    "x=0\n",
    "while n!=0:\n",
    "    x+=n%10\n",
    "    n=n//10\n",
    "print(f\"The sum of the digits is {x}\")\n"
   ]
  },
  {
   "cell_type": "markdown",
   "id": "4638af27-e44f-4ec3-a33b-3e8704596451",
   "metadata": {},
   "source": [
    "# 20 Write a program in Python to print Factors of a Number. "
   ]
  },
  {
   "cell_type": "code",
   "execution_count": 20,
   "id": "f4afeef8-b027-4947-81d1-1e37b23099f9",
   "metadata": {},
   "outputs": [
    {
     "name": "stdin",
     "output_type": "stream",
     "text": [
      "Enter a number:  7\n"
     ]
    },
    {
     "name": "stdout",
     "output_type": "stream",
     "text": [
      "Factors of 7 are:\n",
      "1\n",
      "7\n"
     ]
    }
   ],
   "source": [
    "n = int(input(\"Enter a number: \"))\n",
    "\n",
    "print(f\"Factors of {n} are:\")\n",
    "for i in range(1, n + 1):\n",
    "    if n % i == 0:\n",
    "        print(i)\n"
   ]
  },
  {
   "cell_type": "markdown",
   "id": "aa0d047a-9f39-4528-8efe-d4e3d9085ffc",
   "metadata": {},
   "source": [
    "# 21 Write a program in Python to print Reverse of a Number. "
   ]
  },
  {
   "cell_type": "code",
   "execution_count": 21,
   "id": "27d159ce-c843-4224-979e-a893655af664",
   "metadata": {},
   "outputs": [
    {
     "name": "stdin",
     "output_type": "stream",
     "text": [
      "Enter a number:  123\n"
     ]
    },
    {
     "name": "stdout",
     "output_type": "stream",
     "text": [
      "reverse of 123 is 321\n"
     ]
    }
   ],
   "source": [
    "n = int(input(\"Enter a number: \"))\n",
    "x=0\n",
    "temp=0\n",
    "t=n\n",
    "while n!=0:\n",
    "    x=n%10\n",
    "    temp=x+temp*10\n",
    "    n=n//10\n",
    "print(f\"reverse of {t} is {temp}\")"
   ]
  },
  {
   "cell_type": "markdown",
   "id": "82041754-ed56-4ee1-aa46-84a9c131a79c",
   "metadata": {},
   "source": [
    "# 22 Write a Python program to find Factorial of a given number. "
   ]
  },
  {
   "cell_type": "code",
   "execution_count": 22,
   "id": "3ef8d84b-a5bf-4cdf-ba2a-a6f19cc94b30",
   "metadata": {},
   "outputs": [
    {
     "name": "stdin",
     "output_type": "stream",
     "text": [
      "Enter a number:  5\n"
     ]
    },
    {
     "name": "stdout",
     "output_type": "stream",
     "text": [
      "n! = 120\n"
     ]
    }
   ],
   "source": [
    "n = int(input(\"Enter a number: \"))\n",
    "x=1\n",
    "while n!=0:\n",
    "    x=x*n\n",
    "    n=n-1\n",
    "    \n",
    "print(f\"n! = {x}\")"
   ]
  },
  {
   "cell_type": "markdown",
   "id": "a9015204-4297-4d68-87de-0fbb5485a6f5",
   "metadata": {},
   "source": [
    "# 23 Write a Python program to check a number is palindrome or not. "
   ]
  },
  {
   "cell_type": "code",
   "execution_count": 23,
   "id": "8a7c0196-2a1d-4074-bb7c-19c0915d9801",
   "metadata": {},
   "outputs": [
    {
     "name": "stdin",
     "output_type": "stream",
     "text": [
      "Enter a number:  123\n"
     ]
    },
    {
     "name": "stdout",
     "output_type": "stream",
     "text": [
      "The number 123 is not a plindrome\n"
     ]
    }
   ],
   "source": [
    "n = int(input(\"Enter a number: \"))\n",
    "x=0\n",
    "temp=0\n",
    "t=n\n",
    "while n!=0:\n",
    "    x=n%10\n",
    "    temp=x+temp*10\n",
    "    n=n//10\n",
    "\n",
    "if t==temp:\n",
    "    print(f\"The number {t} is a plindrome\")\n",
    "else:\n",
    "    print(f\"The number {t} is not a plindrome\")"
   ]
  },
  {
   "cell_type": "markdown",
   "id": "42f22829-c8c8-42b6-8006-999f051f3588",
   "metadata": {},
   "source": [
    "# 24 Write a Python program to check a number is prime or not. "
   ]
  },
  {
   "cell_type": "code",
   "execution_count": 24,
   "id": "fb538a59-9916-464f-99b9-753f543496e5",
   "metadata": {},
   "outputs": [
    {
     "name": "stdin",
     "output_type": "stream",
     "text": [
      "Enter a number:  45\n"
     ]
    },
    {
     "name": "stdout",
     "output_type": "stream",
     "text": [
      "45 is a prime number.\n",
      "45 is not a prime number.\n"
     ]
    }
   ],
   "source": [
    "n = int(input(\"Enter a number: \"))\n",
    "\n",
    "for i in range(2,(int(n**0.5) + 1)):\n",
    "        if n % i == 0:\n",
    "            print(f\"{n} is not a prime number.\")\n",
    "            break\n",
    "            \n",
    "        else:\n",
    "         print(f\"{n} is a prime number.\")\n",
    "\n"
   ]
  },
  {
   "cell_type": "markdown",
   "id": "17f7d11e-f342-499d-b070-6e96a52ee7f7",
   "metadata": {},
   "source": [
    "# 25 Write a Python program to check a number is Armstrong or not. "
   ]
  },
  {
   "cell_type": "code",
   "execution_count": 25,
   "id": "b63df237-4493-43ca-a132-a5fd07be81e5",
   "metadata": {},
   "outputs": [
    {
     "name": "stdin",
     "output_type": "stream",
     "text": [
      "Enter a number: 153\n"
     ]
    },
    {
     "name": "stdout",
     "output_type": "stream",
     "text": [
      "The given number 153 is a armstrong\n"
     ]
    }
   ],
   "source": [
    "\n",
    "n =int(input(\"Enter a number:\"))\n",
    "n1=str(n)\n",
    "length=len(n1)\n",
    "t=n\n",
    "temp=0\n",
    "while n!=0:\n",
    "    x=n%10\n",
    "    temp +=x**length\n",
    "    n=n//10\n",
    "\n",
    "if t==temp:\n",
    "    print(f\"The given number {t} is a armstrong\")\n",
    "else:\n",
    "      print(f\"The given number {t} is not a armstrong\")"
   ]
  },
  {
   "cell_type": "markdown",
   "id": "d103bf3b-bd85-48b6-8043-00530f9b9754",
   "metadata": {},
   "source": [
    "# 26 Write a Python program to print Fibonacci series of n term "
   ]
  },
  {
   "cell_type": "code",
   "execution_count": 26,
   "id": "8e0f0a7e-efb9-4f8e-a0c6-a29ac66663f3",
   "metadata": {},
   "outputs": [
    {
     "name": "stdin",
     "output_type": "stream",
     "text": [
      "Enter a range: 7\n"
     ]
    },
    {
     "name": "stdout",
     "output_type": "stream",
     "text": [
      "0 1 3 6 10 15 21 "
     ]
    }
   ],
   "source": [
    "n =int(input(\"Enter a range:\"))\n",
    "a=0 \n",
    "for i in range(1,n+1):\n",
    "    print(a,end=' ')\n",
    "    a=a+i"
   ]
  },
  {
   "cell_type": "markdown",
   "id": "1e2f7b80-2fbe-44de-a5a3-997e7d2f8d85",
   "metadata": {},
   "source": [
    "# 27 Write a Python program to implement multiplication table. "
   ]
  },
  {
   "cell_type": "code",
   "execution_count": 27,
   "id": "6cc92089-4d21-40b0-9603-8489eb459ad2",
   "metadata": {},
   "outputs": [
    {
     "name": "stdin",
     "output_type": "stream",
     "text": [
      "Enter  table: 5\n"
     ]
    },
    {
     "name": "stdout",
     "output_type": "stream",
     "text": [
      "5 x 1 = 5\n",
      "5 x 2 = 10\n",
      "5 x 3 = 15\n",
      "5 x 4 = 20\n",
      "5 x 5 = 25\n",
      "5 x 6 = 30\n",
      "5 x 7 = 35\n",
      "5 x 8 = 40\n",
      "5 x 9 = 45\n",
      "5 x 10 = 50\n"
     ]
    }
   ],
   "source": [
    "n =int(input(\"Enter  table:\")) \n",
    "for i in range(1,11):\n",
    "    print(f\"{n} x {i} = {n*i}\")\n",
    "    "
   ]
  },
  {
   "cell_type": "markdown",
   "id": "5ddd6e41-caab-4af9-a7fd-93eb64b31f42",
   "metadata": {},
   "source": [
    "# 28 Write a Python program to take a input from user in a list and print it. "
   ]
  },
  {
   "cell_type": "code",
   "execution_count": 28,
   "id": "d189f750-8ea7-4bae-b1d9-c11561238972",
   "metadata": {},
   "outputs": [
    {
     "name": "stdin",
     "output_type": "stream",
     "text": [
      "Enter the number of elements in the list:  3\n",
      "Enter an element:  12\n",
      "Enter an element:  hello\n",
      "Enter an element:  90\n"
     ]
    },
    {
     "name": "stdout",
     "output_type": "stream",
     "text": [
      "['12', 'hello', '90']\n"
     ]
    }
   ],
   "source": [
    "n = int(input(\"Enter the number of elements in the list: \"))\n",
    "\n",
    "list = []\n",
    "for i in range(n):\n",
    "    en= input(\"Enter an element: \")\n",
    "    list.append(en)\n",
    "\n",
    "print(list)"
   ]
  },
  {
   "cell_type": "markdown",
   "id": "cc7a6821-c11d-4b7c-935d-ed5a03c7bf46",
   "metadata": {},
   "source": [
    "# 29 Write a Python program to find the average of n numbers using list. "
   ]
  },
  {
   "cell_type": "code",
   "execution_count": 2,
   "id": "1976a2b8-8e12-470e-8195-3c189622d027",
   "metadata": {},
   "outputs": [
    {
     "name": "stdin",
     "output_type": "stream",
     "text": [
      "Enter the number of elements in the list:  3\n",
      "Enter an element:  3\n",
      "Enter an element:  4\n",
      "Enter an element:  5\n"
     ]
    },
    {
     "name": "stdout",
     "output_type": "stream",
     "text": [
      "The average is 4.0\n"
     ]
    }
   ],
   "source": [
    "n = int(input(\"Enter the number of elements in the list: \"))\n",
    "\n",
    "num = []\n",
    "for i in range(n):\n",
    "    en =float(input(\"Enter an element: \"))\n",
    "    \n",
    "    num.append(en)\n",
    "avg =sum(num)/n\n",
    "print(f\"The average is {avg}\")"
   ]
  },
  {
   "cell_type": "markdown",
   "id": "d9c77ab6-1dc8-473f-9baf-bae309716f0e",
   "metadata": {},
   "source": [
    "# 30 Write a Python program to find the largest element in the list. "
   ]
  },
  {
   "cell_type": "code",
   "execution_count": 30,
   "id": "e3c90141-3dfe-46ef-95c0-46cbe203e585",
   "metadata": {},
   "outputs": [
    {
     "name": "stdin",
     "output_type": "stream",
     "text": [
      "Enter the number of elements in the list:  3\n",
      "Enter an element:  23\n",
      "Enter an element:  4\n",
      "Enter an element:  67\n"
     ]
    },
    {
     "name": "stdout",
     "output_type": "stream",
     "text": [
      "The largest element is 67.0\n"
     ]
    }
   ],
   "source": [
    "n = int(input(\"Enter the number of elements in the list: \"))\n",
    "\n",
    "lar= []\n",
    "for i in range(n):\n",
    "    en =float(input(\"Enter an element: \"))\n",
    "    lar.append(en)\n",
    "la = max(lar)\n",
    "print(f\"The largest element is {la}\")"
   ]
  },
  {
   "cell_type": "markdown",
   "id": "07b260d3-f5f2-46c6-b442-15429bfc567f",
   "metadata": {},
   "source": [
    "# 31 Write a Python program to perform Linear search. "
   ]
  },
  {
   "cell_type": "code",
   "execution_count": 31,
   "id": "528fbebd-5905-47eb-af43-c0d8c6a234d8",
   "metadata": {},
   "outputs": [
    {
     "name": "stdin",
     "output_type": "stream",
     "text": [
      "Enter the number of elements in the list:  4\n",
      "Enter an element:  5\n",
      "Enter an element:  6\n",
      "Enter an element:  7\n",
      "Enter an element:  7\n",
      "Enter the target element 8\n"
     ]
    },
    {
     "name": "stdout",
     "output_type": "stream",
     "text": [
      "Element not found\n"
     ]
    }
   ],
   "source": [
    "n = int(input(\"Enter the number of elements in the list: \"))\n",
    "\n",
    "arr= []\n",
    "for i in range(n):\n",
    "    en =float(input(\"Enter an element: \"))\n",
    "    arr.append(en)\n",
    "    \n",
    "index = -1\n",
    "target=float(input(\"Enter the target element\"))\n",
    "\n",
    "for i in range(len(arr)):\n",
    "    if arr[i] == target:\n",
    "        index = i\n",
    "        break\n",
    "\n",
    "if index != -1:\n",
    "    print(f\"Element found at index {index}\")\n",
    "else:\n",
    "    print(\"Element not found\")\n"
   ]
  },
  {
   "cell_type": "markdown",
   "id": "86c92a55-46bb-485c-8a6f-a95e58e9bf39",
   "metadata": {},
   "source": [
    "# 32 Write a program that accepts sequence of lines as input and prints the lines after making all characters in the sentence capitalized. \r\n",
    "\r\n",
    "Suppose the following input is supplied to the program: \r\n",
    "\r\n",
    "Hello world \r\n",
    "\r\n",
    "Practice makes perfect \r\n",
    "\r\n",
    "Then, the output should be: \r\n",
    "\r\n",
    "HELLO WORLD \r\n",
    "\r\n",
    "PRACTICE MAKES PERFECT "
   ]
  },
  {
   "cell_type": "code",
   "execution_count": 32,
   "id": "d61108bb-f395-4d63-9e67-80070357a862",
   "metadata": {},
   "outputs": [
    {
     "name": "stdout",
     "output_type": "stream",
     "text": [
      "HELLO WORLD\n",
      "PRACTICE MAKES PERFECT\n"
     ]
    }
   ],
   "source": [
    "lines = [\"Hello world\",\"Practice makes perfect\"]\n",
    "\n",
    "for i in lines:\n",
    "    print(i.upper())"
   ]
  },
  {
   "cell_type": "markdown",
   "id": "6d4ee4d6-3b6e-4de2-b511-026feae0a04b",
   "metadata": {},
   "source": [
    "# 33 Write a program which accepts a sequence of comma‐separated numbers from console and generate a list and a tuple which contains every number. \r\n",
    "\r\n",
    "Suppose the following input is supplied to the program: \r\n",
    "\r\n",
    "34,67,55,33,12,98 \r\n",
    "\r\n",
    "Then, the output should be: \r\n",
    "\r\n",
    "['34', '67', '55', '33', '12', '98'] \r\n",
    "\r\n",
    "('34', '67', '55', '33', '12', '98') "
   ]
  },
  {
   "cell_type": "code",
   "execution_count": 33,
   "id": "2244b99f-de09-4ec7-ae25-1f7b91e9059d",
   "metadata": {},
   "outputs": [
    {
     "name": "stdin",
     "output_type": "stream",
     "text": [
      "Enter number: 34,67,55,33,12,98\n"
     ]
    },
    {
     "name": "stdout",
     "output_type": "stream",
     "text": [
      "['34', '67', '55', '33', '12', '98']\n",
      "('34', '67', '55', '33', '12', '98')\n"
     ]
    }
   ],
   "source": [
    "input_numbers = str(input(\"Enter number:\"))\n",
    "\n",
    "numbers_list = input_numbers.split(',')\n",
    "numbers_tuple = tuple(numbers_list)\n",
    "\n",
    "print(numbers_list)\n",
    "print(numbers_tuple)"
   ]
  },
  {
   "cell_type": "markdown",
   "id": "5a3b99f4-98f6-408d-aea0-c02458bc3d28",
   "metadata": {},
   "source": [
    "# 34 Write a program that computes the net amount of a bank account based a transaction log from console input. The transaction log format is shown as following: \n",
    "\n",
    "D 100 \n",
    "\n",
    "W 200 \n",
    "\n",
    "¡ \n",
    "\n",
    "D means deposit while W means withdrawal. \n",
    "\n",
    "Suppose the following input is supplied to the program: \n",
    "\n",
    "D 300 \n",
    "\n",
    "D 300 \n",
    "\n",
    "W 200 \n",
    "\n",
    "D 100 \n",
    "\n",
    "Then, the output should be: \n",
    "\n",
    "500 "
   ]
  },
  {
   "cell_type": "code",
   "execution_count": 34,
   "id": "8e5fd5e6-df6d-49cb-96b5-f66dedd79293",
   "metadata": {},
   "outputs": [
    {
     "name": "stdin",
     "output_type": "stream",
     "text": [
      "Enter the list of transaction :  D 300,D 300,W 200,D 100\n"
     ]
    },
    {
     "name": "stdout",
     "output_type": "stream",
     "text": [
      "Total balance is : 500.0\n"
     ]
    }
   ],
   "source": [
    "user=input(\"Enter the list of transaction : \")\n",
    "s=user.split(',')\n",
    "\n",
    "balance=0\n",
    "for i in s:\n",
    "    if \"D\" in i :\n",
    "        i=i.replace(\"D\",\"\")\n",
    "        i=float(i)\n",
    "        balance=balance+i\n",
    "    elif \"W\" in i:  \n",
    "         i=i.replace(\"W\",\"\")\n",
    "         i=float(i) \n",
    "         balance=balance-i\n",
    "    else:\n",
    "        pass\n",
    "\n",
    "print(f\"Total balance is : {balance}\")"
   ]
  },
  {
   "cell_type": "code",
   "execution_count": null,
   "id": "09210755-1de3-4914-9c5c-0327472e0514",
   "metadata": {},
   "outputs": [],
   "source": []
  }
 ],
 "metadata": {
  "kernelspec": {
   "display_name": "Python 3 (ipykernel)",
   "language": "python",
   "name": "python3"
  },
  "language_info": {
   "codemirror_mode": {
    "name": "ipython",
    "version": 3
   },
   "file_extension": ".py",
   "mimetype": "text/x-python",
   "name": "python",
   "nbconvert_exporter": "python",
   "pygments_lexer": "ipython3",
   "version": "3.12.4"
  }
 },
 "nbformat": 4,
 "nbformat_minor": 5
}
